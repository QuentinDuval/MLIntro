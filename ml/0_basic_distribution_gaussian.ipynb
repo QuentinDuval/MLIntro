{
 "cells": [
  {
   "cell_type": "code",
   "execution_count": 1,
   "metadata": {},
   "outputs": [],
   "source": [
    "import numpy as np\n",
    "import matplotlib.pyplot as plt"
   ]
  },
  {
   "cell_type": "markdown",
   "metadata": {},
   "source": [
    "<br>\n",
    "\n",
    "# Univariate Gaussian\n",
    "---\n",
    "\n",
    "The formula for a univariate Gaussian (or normal) distribution:\n",
    "\n",
    "&emsp; $\\boxed{\\mathcal{N}(x|\\mu,\\sigma^2) = \\frac{1}{\\sqrt{2 \\pi \\sigma^2}} e^{\\textstyle - \\frac{(x-\\mu)^2}{2 \\sigma^2}}}$\n",
    "&emsp; where\n",
    "&emsp; $\\mathbb{E}[x] = \\mu$\n",
    "&emsp; and\n",
    "&emsp; $\\mathbb{V}[x] = \\sigma^2$\n",
    "\n",
    "* integration factor (how do we do it)\n",
    "* second order in exponential distribution\n",
    "* sufficient statistics\n",
    "* moments\n",
    "* maximizing entropy"
   ]
  },
  {
   "cell_type": "markdown",
   "metadata": {},
   "source": [
    "<br>\n",
    "\n",
    "# Multivariate Gaussian\n",
    "---\n",
    "\n",
    "* slicing\n",
    "* not the same as conditional gaussian\n",
    "* laws of deductions\n",
    "* PCA to find the axis"
   ]
  },
  {
   "cell_type": "markdown",
   "metadata": {},
   "source": [
    "<br>\n",
    "\n",
    "# Multiple data points\n",
    "---\n",
    "\n",
    "* independence => covariance matrix of the form $\\alpha^{-1} I_n$"
   ]
  },
  {
   "cell_type": "markdown",
   "metadata": {},
   "source": [
    "<br>\n",
    "\n",
    "# Conjugate priors\n",
    "---\n",
    "\n",
    "* todo"
   ]
  },
  {
   "cell_type": "code",
   "execution_count": null,
   "metadata": {},
   "outputs": [],
   "source": []
  }
 ],
 "metadata": {
  "kernelspec": {
   "display_name": "Python 3",
   "language": "python",
   "name": "python3"
  },
  "language_info": {
   "codemirror_mode": {
    "name": "ipython",
    "version": 3
   },
   "file_extension": ".py",
   "mimetype": "text/x-python",
   "name": "python",
   "nbconvert_exporter": "python",
   "pygments_lexer": "ipython3",
   "version": "3.7.1"
  }
 },
 "nbformat": 4,
 "nbformat_minor": 4
}
