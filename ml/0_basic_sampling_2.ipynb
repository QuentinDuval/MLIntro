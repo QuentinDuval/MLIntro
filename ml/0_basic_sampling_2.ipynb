{
 "cells": [
  {
   "cell_type": "code",
   "execution_count": 2,
   "metadata": {},
   "outputs": [],
   "source": [
    "import bisect\n",
    "import math\n",
    "import numpy as np\n",
    "import matplotlib.pyplot as plt\n",
    "from scipy.special import *\n",
    "import networkx as nx"
   ]
  },
  {
   "cell_type": "markdown",
   "metadata": {},
   "source": [
    "<br>\n",
    "\n",
    "# Motivations: Evaluating Complex Expectations\n",
    "---\n",
    "\n",
    "As in part 1, our goal is to evaluate arbitrary function expectations under a probability density function $p$, but this time looking at **multivariate distributions**, with possibly some **observed variables**.\n",
    "\n",
    "<br>\n",
    "\n",
    "### Sampling multivariate distributions\n",
    "\n",
    "The techniques discussed before are often not applicable when sampling for multivariate distribution. Inverse transform sampling requires the inversion of the cumulative probability function, which is even harder as the number of variables increase (although in some case, such as Gaussian, it is possible, while it is not possible for univariate gaussians).\n",
    "\n",
    "As for rejection sampling and importance sampling, their behavior gets exponentially worse with the increasing number of dimensions: rejection sampling rejects almost with certainty, while importance sampling might focus most of its time sampling from low probability area.\n",
    "\n",
    "<br>\n",
    "\n",
    "### Sampling with observed variables\n",
    "\n",
    "In the case of multivariate distributions, we also have to consider that in the general case, some of these variables will be fixed because observed. For some distributions, it will be possible to find a **closed form for the conditional distribution** (for instance with Gaussian Processes), but in many cases it will not.\n",
    "\n",
    "Techniques such as rejection sampling can be adapted for such cases, for instance by rejecting samples for which the value of the observed values are not equal. But this only works for discrete variables, and even though we could make it work, passed a few observations, the number of rejected sample is so high that it is practically not useful."
   ]
  },
  {
   "cell_type": "markdown",
   "metadata": {},
   "source": [
    "<br>\n",
    "\n",
    "# Ancestral Sampling\n",
    "---\n",
    "\n",
    "Ancestral sampling can be used when the **joint distribution can be decomposed** in a directed acyclic graph of conditional distributions (see Bayesian Network) and when the **observed variables are not too problematic**."
   ]
  },
  {
   "cell_type": "markdown",
   "metadata": {},
   "source": [
    "<br>\n",
    "\n",
    "### Hypotheses\n",
    "\n",
    "The joint distribution we want to sample from can be **decomposed** in a directed acyclic graph of dependencies, each dependency representing a **conditional probability distribution that is easily sampled**, for instance:\n",
    "\n",
    "&emsp; $p(a,b,c,d,e,f) = p(a|b,c)p(b|d,e)p(c|d,e)p(d|e)p(e)p(f)$"
   ]
  },
  {
   "cell_type": "code",
   "execution_count": 31,
   "metadata": {},
   "outputs": [
    {
     "data": {
      "image/png": "[encoded data removed]",
      "text/plain": [
       "<Figure size 288x144 with 1 Axes>"
      ]
     },
     "metadata": {},
     "output_type": "display_data"
    }
   ],
   "source": [
    "g = nx.DiGraph()\n",
    "g.add_node(\"f\")\n",
    "g.add_edge(\"b\", \"a\")\n",
    "g.add_edge(\"c\", \"a\")\n",
    "g.add_edge(\"d\", \"b\")\n",
    "g.add_edge(\"e\", \"b\")\n",
    "g.add_edge(\"d\", \"c\")\n",
    "g.add_edge(\"e\", \"c\")\n",
    "g.add_edge(\"e\", \"d\")\n",
    "plt.figure(figsize=(4,2))\n",
    "nx.draw_circular(g, with_labels=True)"
   ]
  },
  {
   "cell_type": "markdown",
   "metadata": {},
   "source": [
    "<br>\n",
    "\n",
    "### The technique\n",
    "\n",
    "Simply sample from the distributions in the topological order, and use the values of the parents to condition the probability distribution of the children nodes. For instance, given the joint distribution:\n",
    "\n",
    "&emsp; $p(a,b,c,d,e,f) = p(a|b,c)p(b|d,e)p(c|d,e)p(d|e)p(e)p(f)$\n",
    "\n",
    "A valid sampling order is (there can be several, for instance for $f$):\n",
    "\n",
    "&emsp; $p(f)$ and $p(e)$\n",
    "&emsp; $\\rightarrow$\n",
    "&emsp; $p(d|e)$\n",
    "&emsp; $\\rightarrow$\n",
    "&emsp; $p(b|d,e)$ and $p(c|d,e)$\n",
    "&emsp; $\\rightarrow$\n",
    "&emsp; $p(a|b,c)$\n",
    "\n",
    "<br>\n",
    "\n",
    "### Pros and Cons\n",
    "\n",
    "This technique is really good if each conditional probability can be easily sampled from. Each sample from the joint distribution is independent, which is a great property for it allows the sample average to quickly converge.\n",
    "\n",
    "In case the conditional probability distributions are not ones from which it is easy is not possible, things gets rapidely bad. We might still be able to deal with some distributions with rejection sampling, but these distributions require to be univariate and not too numerous to be efficient.\n",
    "\n",
    "The final problem of this technique is that we will often have observed variables. In such cases, this technique will not work. We could throw the samples that do not match the observed values, but that would only work for discrete variables and it gets very inefficient if the values are not likely or passed a few observations."
   ]
  },
  {
   "cell_type": "markdown",
   "metadata": {},
   "source": [
    "<br>\n",
    "\n",
    "# Markov Chain Monte Carlo\n",
    "---\n",
    "\n",
    "The idea of the MCMC methods is to draw sample according to a Markov process. New samples are dependent of the previous sample that has been generated. MCMC is a very powerful technique whose main drawback is that the **samples are not independent anymore**. It might then be necessary to **sub-sample** to get samples that are as independent as possible."
   ]
  },
  {
   "cell_type": "markdown",
   "metadata": {},
   "source": [
    "<br>\n",
    "\n",
    "### Basic idea\n",
    "\n",
    "We want to sample $z \\sim p$. To do this, we create a **proposal distribution** $q(z^*|z^t)$ which proposes new values of $z$ based on the previously sampled value. The proposal distribution can be widely different from the distribution $p$: it can be a gaussian centered on the previous $z$.\n",
    "\n",
    "In the **Metropolis-Hasting** algorithm, the new sample is then accepted or rejected based on the ratio:\n",
    "\n",
    "&emsp; $\\displaystyle \\boxed{A(z^t, z^*) = \\operatorname{min}\\big(1, \\frac{p(z^*)q(z^t|z^*)}{p(z^t)q(z^*|z^t)} \\big)}$\n",
    "&emsp; where\n",
    "&emsp; $\\displaystyle \\frac{p(z^*)q(z^t|z^*)}{p(z^t)q(z^*|z^t)} = \\frac{p(z^*)}{p(z^t)}$\n",
    "&emsp; if $q$ is symmetric\n",
    "\n",
    "When a sample is accepted, its value becomes the new state $z^{t+1}$, otherwise the state of the Markov Chain remains the same. This generates a **trajectory** in the space of possible values. Ideally, we must select $q$ so that this trajectory is **as far away as possible to a random walk**, because random walks tends to explore the space very badly, and will lead to highly correlated samples."
   ]
  },
  {
   "cell_type": "markdown",
   "metadata": {},
   "source": [
    "<br>\n",
    "\n",
    "### WHEN does it work?\n",
    "\n",
    "The MCMC algorithm does not always work. In order for it to work, the distribution $p$ must be **invariant with respect to the Markov Chain**. This means that if we look at the samples $z$ generated, they should always follow the probability $p(z)$ at each time step:\n",
    "\n",
    "&emsp; $\\displaystyle \\boxed{p(z^*) = \\sum_{z'} p(z') \\; T(z',z)}$\n",
    "&emsp; where\n",
    "&emsp; $T(z',z)$ is the transition probability from $z'$ to $z$ of the markov chain\n",
    "\n",
    "A sufficient necessary condition for this to hold is the **detailed balance**, which can be interpreted as *the flow that comes comes out equally*, a kind of equilibrium between every pair of states:\n",
    "\n",
    "&emsp; $\\displaystyle \\boxed{p(z') \\; T(z', z) = p(z) \\; T(z, z')}$\n",
    "&emsp; $\\implies$\n",
    "&emsp; $\\displaystyle \\sum_{z'} p(z') \\; T(z', z) = \\sum_{z'} p(z) \\; T(z, z') = \\sum_{z'} p(z) \\; q(z'|z) = p(z)$\n",
    "\n",
    "We also need the Markov Chain to **converge to the invariant distribution (ergodicity)**. This is garantied in case the Markov Chain is homogenous (which means that $q$ is always the same given the previous state, for instance a gaussian distribution with always the same variance, centered on the previous state)."
   ]
  },
  {
   "cell_type": "markdown",
   "metadata": {},
   "source": [
    "<br>\n",
    "\n",
    "### Pro and Cons\n",
    "\n",
    "The size of the step induced by $q$ is critical:\n",
    "\n",
    "* the smaller the step, the higher the correlation between the samples\n",
    "* the bigger the step, the higher the chances of rejection\n",
    "\n",
    "Random walks take time to explore space, and so the behavior of the MCMC will highly depend on this step size."
   ]
  },
  {
   "cell_type": "code",
   "execution_count": 32,
   "metadata": {},
   "outputs": [],
   "source": [
    "# TODO - example"
   ]
  },
  {
   "cell_type": "markdown",
   "metadata": {},
   "source": [
    "<br>\n",
    "\n",
    "# Gibbs Sampling\n",
    "---\n",
    "\n",
    "Gibbs sampling a **special kind of MCMC**, where the proposal function is such that we consider one variable at each time, using its conditional distribution, and always accept the sample. This is particularly **suited to sampling with observed variables** which we can just ignore."
   ]
  },
  {
   "cell_type": "markdown",
   "metadata": {},
   "source": [
    "<br>\n",
    "\n",
    "### Basic idea\n",
    "\n",
    "We want to sample from $z \\sim p(z_1 \\dots z_N)$. The proposal function $q$ selects one of the dimension $z_i$ and draws one sample from the conditional distribution $p(z_i|z_{j \\ne i})$. The new state is the previous $z^t$ with the $i^{th}$ component modified. If some variables are observed, we simply never sample from these variables."
   ]
  },
  {
   "cell_type": "markdown",
   "metadata": {},
   "source": [
    "<br>\n",
    "\n",
    "### Pros and Cons\n",
    "\n",
    "The practicality of Gibbs sampling **depends on the ease of sampling from the conditonal distribution** $p(z_i|z_{j \\ne i})$. The kind of distribution is also potentially problematic: some shapes will force the Gibbs sampling algorithm to do a **long random walks** before reaching some part of the space."
   ]
  },
  {
   "cell_type": "code",
   "execution_count": 33,
   "metadata": {},
   "outputs": [],
   "source": [
    "# TODO - show on narrow gaussians"
   ]
  },
  {
   "cell_type": "code",
   "execution_count": null,
   "metadata": {},
   "outputs": [],
   "source": []
  }
 ],
 "metadata": {
  "kernelspec": {
   "display_name": "Python 3",
   "language": "python",
   "name": "python3"
  },
  "language_info": {
   "codemirror_mode": {
    "name": "ipython",
    "version": 3
   },
   "file_extension": ".py",
   "mimetype": "text/x-python",
   "name": "python",
   "nbconvert_exporter": "python",
   "pygments_lexer": "ipython3",
   "version": "3.7.1"
  }
 },
 "nbformat": 4,
 "nbformat_minor": 4
}
