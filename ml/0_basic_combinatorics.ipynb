{
 "cells": [
  {
   "cell_type": "code",
   "execution_count": 1,
   "metadata": {},
   "outputs": [],
   "source": [
    "from functools import *\n",
    "import numpy as np\n",
    "import matplotlib.pyplot as plt"
   ]
  },
  {
   "cell_type": "markdown",
   "metadata": {},
   "source": [
    "<br>\n",
    "\n",
    "# Enumerating\n",
    "---\n",
    "\n",
    "The different ways to counts the elements."
   ]
  },
  {
   "cell_type": "markdown",
   "metadata": {},
   "source": [
    "<br>\n",
    "\n",
    "### Permutations\n",
    "\n",
    "The number of permutations of $k$ elements among $n$ elements is:\n",
    "\n",
    "&emsp; $\\displaystyle \\boxed{A_k^n = \\frac{n!}{(n-k)!}} = n! \\times \\dots \\times (n-k+1)!$\n",
    "\n",
    "As a specific case, the number of permutations of $n$ elements is $n!$\n",
    "\n",
    "<br>\n",
    "\n",
    "### Combinations\n",
    "\n",
    "The number of way to pick $k$ among $n$ elements, not taking into account the order of elements, is the number of permutations divided by the number of permutations of the $k$ chosen elements:\n",
    "\n",
    "&emsp; $\\displaystyle \\boxed{{n \\choose k} = \\frac{n!}{(n-k)!k!}} = \\frac{A_k^n}{A_k^k} = \\frac{A_k^n}{k!} = \\frac{n! \\times \\dots \\times (n-k+1)!}{k!}$\n",
    "\n",
    "Combinations immediatly appears when developing powers:\n",
    "\n",
    "&emsp; $\\displaystyle (a + b)^n = \\sum_k {n \\choose k} a^k \\; b^{n-k}$\n",
    "&emsp; $\\implies$\n",
    "&emsp; $\\displaystyle (1+1)^n = \\boxed{\\sum_k {n \\choose k} = 2^n}$\n",
    "\n",
    "**Note**: not taking the order into account actually means not taking into account the **identity** of each objects.\n",
    "\n",
    "<br>\n",
    "\n",
    "### Pascal triangle\n",
    "\n",
    "When choosing $k$ elements among $n$, we can choose the first element either being among the $k$, which means that we have to find $k-1$ elements among $n-1$ elements, or as not being among the $k$, so we have to find $k$ elements among the $n-1$ remaining elements:\n",
    "\n",
    "&emsp; $\\displaystyle {n \\choose k} = {n-1 \\choose k-1} + {n-1 \\choose k}$\n",
    "\n",
    "This equality is at the core the the Pascal triangle, which is an efficient way to compute the combinations.\n",
    "\n",
    "<br>\n",
    "\n",
    "### Generalized combinatorics\n",
    "\n",
    "The concept of combinations can be generalized into the number of ways to split $n$ elements into $m_1 \\dots m_k$ elements of $k$ different categories:\n",
    "\n",
    "&emsp; $\\displaystyle \\boxed{{n \\choose m_1 \\dots m_k} = \\frac{n!}{m_1! \\dots m_k!}}$\n",
    "\n",
    "These coefficient naturally appears when developping the power of a sum of elements:\n",
    "\n",
    "&emsp; $\\displaystyle (x_1 + \\dots + x_n)^n = \\sum_{m_1 + \\dots + m_k = n} {n \\choose m_1 \\dots m_k} x_1^{m_1} \\dots x_k^{m_k}$\n",
    "\n",
    "**Note**: We can therefore see the combinatorics $\\displaystyle {n \\choose k}$ as a specific case in which we want to split $n$ elements in $k$ and $n-k$ elements.\n",
    "\n",
    "<br>\n",
    "\n",
    "### Enumerating with code\n",
    "\n",
    "There are plenty of cases in which the additional dependencies make the combinatorics more complex. For instance, how many terms do we have in the above development of the power of the sum of several variables?\n",
    "\n",
    "&emsp; $\\displaystyle (x_1 + \\dots + x_n)^n = \\sum_{m_1 + \\dots + m_k = n} {n \\choose m_1 \\dots m_k} x_1^{m_1} \\dots x_k^{m_k}$\n",
    "\n",
    "The typical approach is **dynamic programming**:"
   ]
  },
  {
   "cell_type": "code",
   "execution_count": 18,
   "metadata": {},
   "outputs": [
    {
     "name": "stdout",
     "output_type": "stream",
     "text": [
      "66\n"
     ]
    }
   ],
   "source": [
    "@lru_cache(maxsize=None)\n",
    "def nb_factors(nb_variables: int, power: int) -> int:\n",
    "    if nb_variables == 1: return 1\n",
    "    if power == 0: return 1\n",
    "    return sum(nb_factors(nb_variables-1, power-n) for n in range(power+1))\n",
    "\n",
    "print(nb_factors(3, 10))"
   ]
  },
  {
   "cell_type": "markdown",
   "metadata": {},
   "source": [
    "<br>\n",
    "\n",
    "# Exercises\n",
    "---\n",
    "\n",
    "**todo**"
   ]
  },
  {
   "cell_type": "code",
   "execution_count": null,
   "metadata": {},
   "outputs": [],
   "source": []
  }
 ],
 "metadata": {
  "kernelspec": {
   "display_name": "Python 3",
   "language": "python",
   "name": "python3"
  },
  "language_info": {
   "codemirror_mode": {
    "name": "ipython",
    "version": 3
   },
   "file_extension": ".py",
   "mimetype": "text/x-python",
   "name": "python",
   "nbconvert_exporter": "python",
   "pygments_lexer": "ipython3",
   "version": "3.7.1"
  }
 },
 "nbformat": 4,
 "nbformat_minor": 4
}
