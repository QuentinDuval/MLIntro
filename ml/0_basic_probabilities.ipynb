{
 "cells": [
  {
   "cell_type": "code",
   "execution_count": 1,
   "metadata": {},
   "outputs": [],
   "source": [
    "import numpy as np\n",
    "import matplotlib.pyplot as plt"
   ]
  },
  {
   "cell_type": "markdown",
   "metadata": {},
   "source": [
    "<br>\n",
    "\n",
    "# Probability mass functions\n",
    "---\n",
    "\n",
    "A random variable $X$ is a variable whose value depends on some random phenomenon. A **discrete random variable** is a variable which has a countable number of values $\\mathcal{X}$ (which might still be infinite, such as $\\mathbb{N}$ or $\\mathbb{Z}$).\n",
    "\n",
    "The **probability mass function** of $X$ gives a numerical description of how much each value of $X$ is likely to occur. The probability of $X$ taking exactly the value $x$ is noted $P(X=x)$, $P_X(x)$ or $P(x)$ when not ambigious. The **mode** of a probability mass function is the value $x \\in \\mathcal{X}$ with the highest associated probability. There can be several mode of a distribution.\n",
    "\n",
    "&emsp; $\\displaystyle P(X = x) \\le 1$\n",
    "&emsp; and\n",
    "&emsp; $\\displaystyle P(X \\ne x) = 1 - P(X = x)$\n",
    "&emsp; and\n",
    "&emsp; $\\displaystyle \\sum_{x \\in \\mathcal{X}} P(X = x) = 1$\n",
    "\n",
    "The **cumulative mass function** of $X$ gives the probability that $X$ will take a value below or equal $x$. This quantity is only significant if there is some kind of ordering among the possible values of $X$.\n",
    "\n",
    "&emsp; $\\displaystyle C(x) = P(X \\le x) = \\sum_{x' \\le x} P(x')$\n",
    "\n",
    "The **expected value** of a function $f \\in \\mathcal{X} \\rightarrow \\mathbb{R}$ applied on the value of $X$ is the average value that this function will take under the probability mass function of $X$ (technically, the expected value is a *functional*: a function that takes a function and returns a real number):\n",
    "\n",
    "&emsp; $\\displaystyle E_X[f] = \\sum_{x \\in X} f(x) P(x)$\n",
    "\n",
    "The **variance** of $X$ is the expected value of the square of the difference between the values taken by the random variable $X$ and the mean value of $X$. The **standard deviation** is the square root of the variance, and expresses the *spread* of a distribution around its mean:\n",
    "\n",
    "&emsp; $\\displaystyle \\sigma^2[X] = E[(X-E[X])^2] = E[X^2] - E[X]^2$\n",
    "\n",
    "The **covariance** is a generalisation of the variance for two random variables $X$ and $Y$:\n",
    "\n",
    "&emsp; $\\displaystyle \\text{Cov}[X,Y] = E[(X-E[X])(Y-E[Y])] = E[XY] - E[X]E[Y]$"
   ]
  },
  {
   "cell_type": "markdown",
   "metadata": {},
   "source": [
    "<br>\n",
    "\n",
    "# Probability density functions\n",
    "---\n",
    "\n",
    "A **continuous random variable** is a variable which has a non-countable number of values $\\mathcal{X}$ (such as $\\mathbb{R}$). Because the values are not countable, there notion of probability mass function would be meaningless (the probability of taking exactly one value is likely to be zero).\n",
    "\n",
    "The **probability density function** of $X$ gives a relative numerical description of how much a value is likely to occur,  noted $p(X=x)$, $p_X(x)$ or $p(x)$ if not ambiguous. The probability of a the value $\\mathcal{X}$ being found in the interval $[a,b]$ is the integral of $p(x)$ between $a$ and $b$:\n",
    "\n",
    "&emsp; $\\displaystyle P(a \\le X \\le b) = \\int_a^b p(x) dx$\n",
    "&emsp; $\\implies$\n",
    "&emsp; $\\displaystyle p(x) = \\underset{h \\rightarrow \\infty}{\\text{lim}} \\frac{P(x \\le X \\le x+h)}{h}$\n",
    "\n",
    "The **mode** of a probability density function is the value $x \\in \\mathcal{X}$ with the highest relative probability. The **cumulative density function** of $X$ gives the probability that $X$ will take a value below or equal $x$:\n",
    "\n",
    "&emsp; $\\displaystyle C(x) = P(X \\le x) = \\int_{-\\infty}^{x} p(\\hat{x}) d\\hat{x}$\n",
    "&emsp; $\\implies$\n",
    "&emsp; $\\displaystyle p(x) = \\frac{d}{dx} C(x)$\n",
    "\n",
    "The **expected value** of a function $f \\in \\mathcal{X} \\rightarrow \\mathbb{R}$ applied on the value of $X$ is the average value that this function will take under the probability mass function of $X$ (technically, the expected value is a *functional*: a function that takes a function and returns a real number):\n",
    "\n",
    "&emsp; $\\displaystyle E_X[f] = \\int f(x) p(x) dx$\n",
    "\n",
    "The **variance** of $X$ is the expected value of the square of the difference between the values taken by the random variable $X$ and the mean value of $X$. The **standard deviation** is the square root of the variance, and expresses the *spread* of a distribution around its mean:\n",
    "\n",
    "&emsp; $\\displaystyle \\sigma^2[X] = \\int (x - E[x])^2 p(x) dx$\n",
    "&emsp; and\n",
    "&emsp; $\\displaystyle \\text{Cov}[X,Y] = \\iint (x - E[X]) \\; (y - E[Y]) \\; p(x,y) \\; dx \\; dy$\n",
    "\n",
    "Some distributions do not have a variance because the integral is not defined."
   ]
  },
  {
   "cell_type": "markdown",
   "metadata": {},
   "source": [
    "<br>\n",
    "\n",
    "# Independence\n",
    "---\n",
    "\n",
    "Two random variables $X$ and $Y$ are independent if their joint distribution can be decomposed in the product of their marginal discribution:\n",
    "\n",
    "&emsp; $X$ and $Y$ are independent\n",
    "&emsp; $\\iff$\n",
    "&emsp; $p(x,y) = p(x)p(y)$\n",
    "&emsp; $\\iff$\n",
    "&emsp; $p(x|y) = p(x) \\;\\;\\; \\text{or} \\;\\;\\; p(y|x) = p(y)$\n",
    "\n",
    "The covariance of two independent variables is zero:\n",
    "\n",
    "&emsp; $\\displaystyle \\text{Cov}[X,Y] = \\iint (x - E[X]) \\; (y - E[Y]) \\; p(x)p(y) \\; dx \\; dy = \\int (x - E[X]) \\; p(x) \\; dx \\int (y - E[Y]) \\; p(y) \\; dy = 0$\n",
    "\n",
    "But if the covariance is zero, it does not mean the variables are independent."
   ]
  },
  {
   "cell_type": "markdown",
   "metadata": {},
   "source": [
    "<br>\n",
    "\n",
    "# Law of large numbers\n",
    "---\n",
    "\n",
    "Let $(X_1 \\dots X_N)$ be a set of random variables independent and having the same distribution as $X$.\n",
    "\n",
    "The **expected value is linear** (because it involves a sum or an integral, which is itself linear) so the sum of the $X_n$ is equal to $N$ times the expected value of $X$.\n",
    "\n",
    "&emsp; $\\displaystyle E \\Big[\\sum_n X_n \\Big] = N E[X]$\n",
    "&emsp; $\\implies$\n",
    "&emsp; $\\displaystyle E \\Big[\\frac{1}{N} \\sum_n X_n \\Big] = E[X]$\n",
    "&emsp; (the expected value of the sample average is the average)\n",
    "\n",
    "The **weak law of large numbers** says that the sample average converges in probability to the average:\n",
    "\n",
    "&emsp; $\\displaystyle \\forall \\epsilon, \\underset{N \\rightarrow \\infty}{\\text{lim}} P \\; \\Big \\vert \\frac{1}{N} \\sum_n X_n - E[X]\\Big \\vert = 0$\n",
    "\n",
    "One remarkable fact is that the **variance** of the sum of $X_n$ is equal to N times the expected value of $X$. And so the variance of the sample average is the variance of $X$ divided by N. This is only valid if the $X_n$ are independent (their covariance is zero):\n",
    "\n",
    "&emsp; $\\displaystyle \\sigma^2\\Big[\\sum_n X_n \\Big] = N \\sigma^2 [X]$\n",
    "&emsp; $\\implies$\n",
    "&emsp; $\\displaystyle \\sigma^2[\\bar{X_n}] = \\frac{\\sigma^2[X]}{N}$\n",
    "&emsp; $\\implies$\n",
    "&emsp; $\\displaystyle \\sigma[\\bar{X_n}] = \\frac{\\sigma[X]}{\\sqrt{N}}$\n",
    "\n",
    "So we see that the **standard deviation** (the spread) of the sample average is decreasing as the number of samples increases."
   ]
  },
  {
   "cell_type": "markdown",
   "metadata": {},
   "source": [
    "<br>\n",
    "\n",
    "# Central Limit Theorem\n",
    "---"
   ]
  },
  {
   "cell_type": "code",
   "execution_count": null,
   "metadata": {},
   "outputs": [],
   "source": []
  }
 ],
 "metadata": {
  "kernelspec": {
   "display_name": "Python 3",
   "language": "python",
   "name": "python3"
  },
  "language_info": {
   "codemirror_mode": {
    "name": "ipython",
    "version": 3
   },
   "file_extension": ".py",
   "mimetype": "text/x-python",
   "name": "python",
   "nbconvert_exporter": "python",
   "pygments_lexer": "ipython3",
   "version": "3.7.1"
  }
 },
 "nbformat": 4,
 "nbformat_minor": 4
}
