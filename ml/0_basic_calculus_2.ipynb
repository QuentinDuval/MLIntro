{
 "cells": [
  {
   "cell_type": "code",
   "execution_count": 1,
   "metadata": {},
   "outputs": [],
   "source": [
    "import numpy as np\n",
    "import matplotlib.pyplot as plt"
   ]
  },
  {
   "cell_type": "markdown",
   "metadata": {},
   "source": [
    "<br>\n",
    "\n",
    "# Matrix Calculus\n",
    "---"
   ]
  },
  {
   "cell_type": "markdown",
   "metadata": {},
   "source": [
    "<br>\n",
    "\n",
    "### Chain rule\n",
    "\n",
    "We can write the chain rule with the vector notation:\n",
    "\n",
    "&emsp; $\\displaystyle \\frac{\\partial f}{\\partial y_j} = \\sum_i \\frac{\\partial f}{\\partial x_i} \\frac{\\partial x_i}{\\partial y_j}$\n",
    "&emsp; $\\implies$\n",
    "&emsp; $\\displaystyle \\frac{\\partial f}{\\partial \\mathbf{y}} = \\frac{\\partial f}{\\partial \\mathbf{x}} \\frac{\\partial \\mathbf{x}}{\\partial \\mathbf{y}}$\n",
    "&emsp;\n",
    "&emsp; with\n",
    "&emsp;\n",
    "&emsp; $\\displaystyle \\frac{\\partial f}{\\partial \\mathbf{y}} \\in \\mathbb{R}^{1 \\times n}$\n",
    "&emsp;\n",
    "&emsp; $\\displaystyle \\frac{\\partial f}{\\partial \\mathbf{x}} \\in \\mathbb{R}^{1 \\times m}$\n",
    "&emsp;\n",
    "&emsp; $\\displaystyle \\frac{\\partial \\mathbf{x}}{\\partial \\mathbf{y}} \\in \\mathbb{R}^{m \\times n}$\n",
    "\n",
    "This also works for function that have several inputs:\n",
    "\n",
    "&emsp; $\\displaystyle \\frac{\\partial \\mathbf{f}}{\\partial \\mathbf{y}} = \\frac{\\partial \\mathbf{f}}{\\partial \\mathbf{x}} \\frac{\\partial \\mathbf{x}}{\\partial \\mathbf{y}} \\; \\in \\mathbb{R}^{m \\times n}$\n",
    "&emsp;\n",
    "&emsp; with\n",
    "&emsp;\n",
    "&emsp; $\\displaystyle \\frac{\\partial \\mathbf{f}}{\\partial \\mathbf{x}} \\in \\mathbb{R}^{m \\times k}$\n",
    "&emsp; and\n",
    "&emsp; $\\displaystyle \\frac{\\partial \\mathbf{x}}{\\partial \\mathbf{y}} \\in \\mathbb{R}^{k \\times n}$\n",
    "&emsp; are the Jacobian $J_x f$ and $J_y x$\n",
    "\n",
    "This way of writing things down allows to more easily write down the chain rule, and considering the gradient as a row vector, and avoid confusion when dealing with higher dimensional spaces."
   ]
  },
  {
   "cell_type": "markdown",
   "metadata": {},
   "source": [
    "<br>\n",
    "\n",
    "### Chain rule (higher dimensions)\n",
    "\n",
    "We can generalize the chain rule to higher dimensions $f = A x$:\n",
    "\n",
    "&emsp; $A \\in \\mathbb{R}^{m \\times n}$\n",
    "&emsp; $\\implies$\n",
    "&emsp; $\\displaystyle T = \\frac{\\partial f}{\\partial A} \\in \\mathbb{R}^{m \\times m \\times n}$\n",
    "&emsp; where\n",
    "&emsp; $\\displaystyle \\frac{\\partial f_i}{\\partial A} \\in \\mathbb{R}^{m \\times n}$\n",
    "&emsp; and\n",
    "&emsp; $\\displaystyle T_{ijk} = \\frac{\\partial f_i}{\\partial A_{jk}} \\in \\mathbb{R}$"
   ]
  },
  {
   "cell_type": "markdown",
   "metadata": {},
   "source": [
    "<br>\n",
    "\n",
    "### Matrix calculus"
   ]
  },
  {
   "cell_type": "code",
   "execution_count": null,
   "metadata": {},
   "outputs": [],
   "source": []
  }
 ],
 "metadata": {
  "kernelspec": {
   "display_name": "Python 3",
   "language": "python",
   "name": "python3"
  },
  "language_info": {
   "codemirror_mode": {
    "name": "ipython",
    "version": 3
   },
   "file_extension": ".py",
   "mimetype": "text/x-python",
   "name": "python",
   "nbconvert_exporter": "python",
   "pygments_lexer": "ipython3",
   "version": "3.7.1"
  }
 },
 "nbformat": 4,
 "nbformat_minor": 4
}
