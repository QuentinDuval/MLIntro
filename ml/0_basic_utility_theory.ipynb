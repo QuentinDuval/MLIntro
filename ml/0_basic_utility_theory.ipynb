{
 "cells": [
  {
   "cell_type": "code",
   "execution_count": 1,
   "metadata": {},
   "outputs": [],
   "source": [
    "import numpy as np\n",
    "import matplotlib.pyplot as plt"
   ]
  },
  {
   "cell_type": "markdown",
   "metadata": {},
   "source": [
    "<br>\n",
    "\n",
    "# Basics\n",
    "---\n",
    "\n",
    "**Utility avoids confusing importance and likelihood**. To make good decisions, it is not enough to know the probability of each outcome, we must know the desirability of each outcome.\n",
    "\n",
    "<br>\n",
    "\n",
    "### Maximum Expected Utility\n",
    "\n",
    "The **utility** of an outcome is a numeric value that allows to compare the relative desirability of each outcome. The utility assigns a value $U(s)$ to the a state $s$. If a rational agent has the choice between several actions, the agent should chose the action that has the maximum expected utility:\n",
    "\n",
    "&emsp; $a^* = \\underset{a}{\\operatorname{argmax}} \\mathbb{E}_{s' \\sim p(s, a)}[U(s')]$\n",
    "&emsp; where $s'$ is the outcome of action $a$ at state $s$\n",
    "\n",
    "The **utility** is equivalent to the state value in Reinforcement Learning, while the **action value** is equivalent to the expected utility of taking the action $a$.\n",
    "\n",
    "<br>\n",
    "\n",
    "### Finding the utility\n",
    "\n",
    "The choice of the utility is critical and defines the situation the agent will prefer. Successfully handling a problem requires finding the appropriate utility function. Unfortunately, this is not that easy. If we take the example of money, the utility does not grow linearly with the amount of money:\n",
    "\n",
    "* people will tend to prefer to secure 100,000 rather than throwing a coin to possibly gain 250,000\n",
    "* people will tend to prefer to lose 100 every month rather than having a 1% chance of losing 10,000\n",
    "\n",
    "This behavior is call **risk-adversity** and do not always apply. Some people are not risk-adverse, and it also depends on how much they have in their bank account. Someone with plenty of money will likely take more changes, and someone with a big debt will also do so (in a desesperate attempt to save their situation).\n",
    "\n",
    "We can easily explain this by modeling the utility of money as a logarithm of the total amount of money you would have after your choice is made:"
   ]
  },
  {
   "cell_type": "code",
   "execution_count": 27,
   "metadata": {},
   "outputs": [
    {
     "name": "stdout",
     "output_type": "stream",
     "text": [
      "True\n",
      "False\n",
      "True\n"
     ]
    }
   ],
   "source": [
    "def utility(money: int):\n",
    "    if money >= 0:\n",
    "        return np.log(1 + money)\n",
    "    else:\n",
    "        return - np.log(1 + abs(money))\n",
    "\n",
    "def will_bet(bank_account: int, secure_win: int, possible_win: int, prob_win: float):\n",
    "    win_utility = utility(bank_account) * (1 - prob_win) + prob_win * utility(bank_account + possible_win)\n",
    "    return utility(bank_account + secure_win) < win_utility\n",
    "\n",
    "print(will_bet(1000, 1000, 3000, 0.5))   # Will take the chance\n",
    "print(will_bet(1000, 10000, 30000, 0.5)) # Will not take the chance\n",
    "print(will_bet(-10000, 1000, 3000, 0.3)) # Will take the change although the expected gain is less"
   ]
  },
  {
   "cell_type": "markdown",
   "metadata": {},
   "source": [
    "<br>\n",
    "\n",
    "### Composing utilities\n",
    "\n",
    "* sum of utility for independent criteria\n",
    "\n",
    "<br>\n",
    "\n",
    "### Post decision disappointment\n",
    "\n",
    "* example of random function around 0"
   ]
  },
  {
   "cell_type": "markdown",
   "metadata": {},
   "source": [
    "<br>\n",
    "\n",
    "# Information Value Theory\n",
    "---\n",
    "\n",
    "* gathering information has a cost too: agent should only do it when increase in value\n",
    "* the value of information is equal to the increase in expected value in our decision making"
   ]
  },
  {
   "cell_type": "code",
   "execution_count": null,
   "metadata": {},
   "outputs": [],
   "source": []
  }
 ],
 "metadata": {
  "kernelspec": {
   "display_name": "Python 3",
   "language": "python",
   "name": "python3"
  },
  "language_info": {
   "codemirror_mode": {
    "name": "ipython",
    "version": 3
   },
   "file_extension": ".py",
   "mimetype": "text/x-python",
   "name": "python",
   "nbconvert_exporter": "python",
   "pygments_lexer": "ipython3",
   "version": "3.7.1"
  }
 },
 "nbformat": 4,
 "nbformat_minor": 4
}
