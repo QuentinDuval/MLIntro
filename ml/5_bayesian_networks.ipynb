{
 "cells": [
  {
   "cell_type": "code",
   "execution_count": 1,
   "metadata": {},
   "outputs": [],
   "source": [
    "import numpy as np\n",
    "import matplotlib.pyplot as plt"
   ]
  },
  {
   "cell_type": "markdown",
   "metadata": {},
   "source": [
    "# Bayesian networks\n",
    "---\n",
    "\n",
    "AKA belief networks."
   ]
  },
  {
   "cell_type": "code",
   "execution_count": 2,
   "metadata": {},
   "outputs": [],
   "source": [
    "# TODO - experiment with the carrier belt (luggage still on the plane, luggage was put on the plane)\n",
    "\n",
    "# Check: https://pomegranate.readthedocs.io/en/latest/BayesianNetwork.html"
   ]
  },
  {
   "cell_type": "markdown",
   "metadata": {},
   "source": [
    "# Causal networks\n",
    "---\n",
    "\n",
    "Plenty of crazy example:\n",
    "\n",
    "* **fork**: confounding if you do not control: size of shoes on ability to read (confounding is age)\n",
    "* **collider**: confounding if you control: smoking during pregnency increases the life of low-weigh babies\n",
    "* **chain**: ?\n",
    "\n",
    "RCT is one way to go (the prefered method in statistics) but cannot always be used:\n",
    "\n",
    "* unethical: cannot force people to smoke\n",
    "* impractical: too long time span (30 years for cancer development)\n",
    "\n",
    "When you cannot, you rely on observational data. Data alone will never allow you to find cause and effects.\n",
    "\n",
    "Causal diagrams can help understand some of the effects, as well as encoding our knowledge as prior, challenge this knowledge, and include all of this as prior."
   ]
  },
  {
   "cell_type": "code",
   "execution_count": null,
   "metadata": {},
   "outputs": [],
   "source": []
  }
 ],
 "metadata": {
  "kernelspec": {
   "display_name": "Python 3",
   "language": "python",
   "name": "python3"
  },
  "language_info": {
   "codemirror_mode": {
    "name": "ipython",
    "version": 3
   },
   "file_extension": ".py",
   "mimetype": "text/x-python",
   "name": "python",
   "nbconvert_exporter": "python",
   "pygments_lexer": "ipython3",
   "version": "3.7.1"
  }
 },
 "nbformat": 4,
 "nbformat_minor": 4
}
